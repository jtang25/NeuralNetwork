{
 "cells": [
  {
   "cell_type": "code",
   "execution_count": 1,
   "metadata": {},
   "outputs": [],
   "source": [
    "import pandas as pd\n",
    "import numpy as np\n",
    "import matplotlib.pyplot as plt\n",
    "from Convolutional_Layer import Convolutional_Layer\n",
    "import time\n",
    "\n",
    "# Load and preprocess the data\n",
    "digits = pd.read_csv('Datasets/digit_train.csv')\n",
    "digit = np.array([\n",
    "    np.array([digits.values[0][1:].reshape(28, 28)])\n",
    "])\n",
    "label = np.array([\n",
    "    digits.values[0][0]\n",
    "])"
   ]
  },
  {
   "cell_type": "code",
   "execution_count": 2,
   "metadata": {},
   "outputs": [
    {
     "name": "stdout",
     "output_type": "stream",
     "text": [
      "Training sample 1/1\r"
     ]
    },
    {
     "ename": "IndexError",
     "evalue": "index 1 is out of bounds for axis 0 with size 1",
     "output_type": "error",
     "traceback": [
      "\u001b[1;31m---------------------------------------------------------------------------\u001b[0m",
      "\u001b[1;31mIndexError\u001b[0m                                Traceback (most recent call last)",
      "Cell \u001b[1;32mIn[2], line 16\u001b[0m\n\u001b[0;32m      7\u001b[0m model \u001b[38;5;241m=\u001b[39m Model(Layers\u001b[38;5;241m=\u001b[39m[\n\u001b[0;32m      8\u001b[0m     Convolutional_Layer(filters\u001b[38;5;241m=\u001b[39m\u001b[38;5;241m3\u001b[39m, filter_size\u001b[38;5;241m=\u001b[39m\u001b[38;5;241m3\u001b[39m, stride\u001b[38;5;241m=\u001b[39m\u001b[38;5;241m1\u001b[39m, padding\u001b[38;5;241m=\u001b[39m\u001b[38;5;241m1\u001b[39m, activation_func\u001b[38;5;241m=\u001b[39m\u001b[38;5;28;01mNone\u001b[39;00m), \u001b[38;5;66;03m# layer 0\u001b[39;00m\n\u001b[0;32m      9\u001b[0m     Flatten(), \u001b[38;5;66;03m# layer 1\u001b[39;00m\n\u001b[1;32m   (...)\u001b[0m\n\u001b[0;32m     12\u001b[0m     Output_Layer(input_shape\u001b[38;5;241m=\u001b[39m\u001b[38;5;241m6\u001b[39m,output_shape\u001b[38;5;241m=\u001b[39m\u001b[38;5;241m1\u001b[39m) \u001b[38;5;66;03m# layer 4\u001b[39;00m\n\u001b[0;32m     13\u001b[0m ])\n\u001b[0;32m     15\u001b[0m model\u001b[38;5;241m.\u001b[39mforward_pass(digit[\u001b[38;5;241m0\u001b[39m])\n\u001b[1;32m---> 16\u001b[0m error \u001b[38;5;241m=\u001b[39m \u001b[43mmodel\u001b[49m\u001b[38;5;241;43m.\u001b[39;49m\u001b[43mfit\u001b[49m\u001b[43m(\u001b[49m\u001b[43mdigit\u001b[49m\u001b[43m,\u001b[49m\u001b[43m \u001b[49m\u001b[43mlabel\u001b[49m\u001b[43m,\u001b[49m\u001b[43m \u001b[49m\u001b[43mlearning_rate\u001b[49m\u001b[38;5;241;43m=\u001b[39;49m\u001b[38;5;241;43m0.001\u001b[39;49m\u001b[43m,\u001b[49m\u001b[43m \u001b[49m\u001b[43mepochs\u001b[49m\u001b[38;5;241;43m=\u001b[39;49m\u001b[38;5;241;43m10\u001b[39;49m\u001b[43m)\u001b[49m\n\u001b[0;32m     17\u001b[0m plt\u001b[38;5;241m.\u001b[39mplot(error)\n",
      "File \u001b[1;32mc:\\Users\\jason\\VSProjects\\NeuralNetwork\\Model.py:151\u001b[0m, in \u001b[0;36mModel.fit\u001b[1;34m(self, X, y, learning_rate, epochs)\u001b[0m\n\u001b[0;32m    149\u001b[0m \u001b[38;5;28;01mfor\u001b[39;00m i, neuron \u001b[38;5;129;01min\u001b[39;00m \u001b[38;5;28menumerate\u001b[39m(layer\u001b[38;5;241m.\u001b[39mget_neurons()):\n\u001b[0;32m    150\u001b[0m     d_activation \u001b[38;5;241m=\u001b[39m \u001b[38;5;28mself\u001b[39m\u001b[38;5;241m.\u001b[39mdactivation(neuron, raw_outputs[l][i])\n\u001b[1;32m--> 151\u001b[0m     error \u001b[38;5;241m=\u001b[39m \u001b[38;5;28msum\u001b[39m(\u001b[43m[\u001b[49m\u001b[43mdeltas\u001b[49m\u001b[43m[\u001b[49m\u001b[38;5;241;43m0\u001b[39;49m\u001b[43m]\u001b[49m\u001b[43m[\u001b[49m\u001b[43mk\u001b[49m\u001b[43m]\u001b[49m\u001b[43m \u001b[49m\u001b[38;5;241;43m*\u001b[39;49m\u001b[43m \u001b[49m\u001b[43mnext_layer\u001b[49m\u001b[38;5;241;43m.\u001b[39;49m\u001b[43mget_neurons\u001b[49m\u001b[43m(\u001b[49m\u001b[43m)\u001b[49m\u001b[43m[\u001b[49m\u001b[43mk\u001b[49m\u001b[43m]\u001b[49m\u001b[38;5;241;43m.\u001b[39;49m\u001b[43mget_weights\u001b[49m\u001b[43m(\u001b[49m\u001b[43m)\u001b[49m\u001b[43m[\u001b[49m\u001b[43mi\u001b[49m\u001b[43m]\u001b[49m\n\u001b[0;32m    152\u001b[0m \u001b[43m                \u001b[49m\u001b[38;5;28;43;01mfor\u001b[39;49;00m\u001b[43m \u001b[49m\u001b[43mk\u001b[49m\u001b[43m \u001b[49m\u001b[38;5;129;43;01min\u001b[39;49;00m\u001b[43m \u001b[49m\u001b[38;5;28;43mrange\u001b[39;49m\u001b[43m(\u001b[49m\u001b[38;5;28;43mlen\u001b[39;49m\u001b[43m(\u001b[49m\u001b[43mnext_layer\u001b[49m\u001b[38;5;241;43m.\u001b[39;49m\u001b[43mget_neurons\u001b[49m\u001b[43m(\u001b[49m\u001b[43m)\u001b[49m\u001b[43m)\u001b[49m\u001b[43m)\u001b[49m\u001b[43m]\u001b[49m)\n\u001b[0;32m    153\u001b[0m     delta_i \u001b[38;5;241m=\u001b[39m error \u001b[38;5;241m*\u001b[39m d_activation\n\u001b[0;32m    154\u001b[0m     weights \u001b[38;5;241m=\u001b[39m neuron\u001b[38;5;241m.\u001b[39mget_weights()\n",
      "File \u001b[1;32mc:\\Users\\jason\\VSProjects\\NeuralNetwork\\Model.py:151\u001b[0m, in \u001b[0;36m<listcomp>\u001b[1;34m(.0)\u001b[0m\n\u001b[0;32m    149\u001b[0m \u001b[38;5;28;01mfor\u001b[39;00m i, neuron \u001b[38;5;129;01min\u001b[39;00m \u001b[38;5;28menumerate\u001b[39m(layer\u001b[38;5;241m.\u001b[39mget_neurons()):\n\u001b[0;32m    150\u001b[0m     d_activation \u001b[38;5;241m=\u001b[39m \u001b[38;5;28mself\u001b[39m\u001b[38;5;241m.\u001b[39mdactivation(neuron, raw_outputs[l][i])\n\u001b[1;32m--> 151\u001b[0m     error \u001b[38;5;241m=\u001b[39m \u001b[38;5;28msum\u001b[39m([\u001b[43mdeltas\u001b[49m\u001b[43m[\u001b[49m\u001b[38;5;241;43m0\u001b[39;49m\u001b[43m]\u001b[49m\u001b[43m[\u001b[49m\u001b[43mk\u001b[49m\u001b[43m]\u001b[49m \u001b[38;5;241m*\u001b[39m next_layer\u001b[38;5;241m.\u001b[39mget_neurons()[k]\u001b[38;5;241m.\u001b[39mget_weights()[i]\n\u001b[0;32m    152\u001b[0m                 \u001b[38;5;28;01mfor\u001b[39;00m k \u001b[38;5;129;01min\u001b[39;00m \u001b[38;5;28mrange\u001b[39m(\u001b[38;5;28mlen\u001b[39m(next_layer\u001b[38;5;241m.\u001b[39mget_neurons()))])\n\u001b[0;32m    153\u001b[0m     delta_i \u001b[38;5;241m=\u001b[39m error \u001b[38;5;241m*\u001b[39m d_activation\n\u001b[0;32m    154\u001b[0m     weights \u001b[38;5;241m=\u001b[39m neuron\u001b[38;5;241m.\u001b[39mget_weights()\n",
      "\u001b[1;31mIndexError\u001b[0m: index 1 is out of bounds for axis 0 with size 1"
     ]
    }
   ],
   "source": [
    "from Convolutional_Layer import Convolutional_Layer\n",
    "from Dense_Layer import Dense_Layer\n",
    "from Output_Layer import Output_Layer\n",
    "from Flatten import Flatten\n",
    "from Model import Model\n",
    "\n",
    "model = Model(Layers=[\n",
    "    Convolutional_Layer(filters=3, filter_size=3, stride=1, padding=1, activation_func=None), # layer 0\n",
    "    Flatten(), # layer 1\n",
    "    Dense_Layer(input_shape=3 * 28 * 28, output_shape=5, activation_func=\"relu\"), # layer 2\n",
    "    Dense_Layer(input_shape=5,output_shape=6, activation_func=\"relu\"), # layer 3\n",
    "    Output_Layer(input_shape=6,output_shape=1) # layer 4\n",
    "])\n",
    "\n",
    "model.forward_pass(digit[0])\n",
    "error = model.fit(digit, label, learning_rate=0.001, epochs=10)\n",
    "plt.plot(error)"
   ]
  },
  {
   "cell_type": "code",
   "execution_count": null,
   "metadata": {},
   "outputs": [],
   "source": []
  },
  {
   "cell_type": "code",
   "execution_count": 132,
   "metadata": {},
   "outputs": [
    {
     "name": "stdout",
     "output_type": "stream",
     "text": [
      "Dense_Layer [-0.         -0.62918817 -0.         -0.         -0.4177815  -0.22966532\n",
      "  0.44284459  0.07056222  0.12400066  0.06523363]\n",
      "[0. 0. 0. 0. 0. 0. 0. 0. 0. 0.]\n",
      "Dense_Layer [0. 0. 0. 0. 0. 0. 0. 0. 0. 0.]\n",
      "[0. 0. 0. 0. 0. 0. 0. 0. 0. 0.]\n",
      "Dense_Layer [0. 0. 0. 0. 0. 0. 0. 0. 0. 0.]\n",
      "[0. 0. 0. 0. 0. 0. 0. 0. 0. 0.]\n",
      "Dense_Layer [0. 0. 0. 0. 0. 0. 0. 0. 0. 0.]\n",
      "[0. 0. 0. 0. 0. 0. 0. 0. 0. 0.]\n",
      "Dense_Layer [0. 0. 0. 0. 0. 0. 0. 0. 0. 0.]\n",
      "[0. 0. 0. 0. 0. 0. 0. 0. 0. 0.]\n",
      "Dense_Layer [0. 0. 0. 0. 0. 0. 0. 0. 0. 0.]\n",
      "[0. 0. 0. 0. 0. 0. 0. 0. 0. 0.]\n",
      "Epoch 1/1, Average Loss: 2.850270605584982\n"
     ]
    }
   ],
   "source": [
    "from Model import *\n",
    "\n",
    "X = np.random.randn(1,1)\n",
    "\n",
    "my_model = Model(Layers=[\n",
    "    Dense_Layer(input_shape=1,output_shape=10, activation_func=\"relu\"),\n",
    "    Dense_Layer(input_shape=10,output_shape=10, activation_func=\"relu\"),\n",
    "    Output_Layer(input_shape=10,output_shape=1)\n",
    "])\n",
    "\n",
    "my_model.forward_pass(X[0])\n",
    "error = my_model.fit(X, X, learning_rate=0.001, epochs=1)"
   ]
  }
 ],
 "metadata": {
  "kernelspec": {
   "display_name": "Python 3",
   "language": "python",
   "name": "python3"
  },
  "language_info": {
   "codemirror_mode": {
    "name": "ipython",
    "version": 3
   },
   "file_extension": ".py",
   "mimetype": "text/x-python",
   "name": "python",
   "nbconvert_exporter": "python",
   "pygments_lexer": "ipython3",
   "version": "3.11.0"
  }
 },
 "nbformat": 4,
 "nbformat_minor": 2
}
