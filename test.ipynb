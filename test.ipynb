{
 "cells": [
  {
   "cell_type": "code",
   "execution_count": 55,
   "metadata": {},
   "outputs": [
    {
     "name": "stdout",
     "output_type": "stream",
     "text": [
      "[[-0.5574131844196919], [0.1670945208197181], [-0.3575196269671206]]\n",
      "[46.96039659012836, 8.124458978661838, -7.736631258769583]\n",
      "0.0671842098236084\n"
     ]
    },
    {
     "data": {
      "text/plain": [
       "<matplotlib.legend.Legend at 0x2bfd7c569d0>"
      ]
     },
     "execution_count": 55,
     "metadata": {},
     "output_type": "execute_result"
    },
    {
     "data": {
      "image/png": "[encoded data removed]",
      "text/plain": [
       "<Figure size 640x480 with 1 Axes>"
      ]
     },
     "metadata": {},
     "output_type": "display_data"
    }
   ],
   "source": [
    "import numpy as np\n",
    "import matplotlib as plt\n",
    "from Neuron import *\n",
    "import time \n",
    "import matplotlib.pyplot as plt\n",
    "\n",
    "class Output_Layer:\n",
    "    def __init__(self, input_shape, output_shape, activation_func=none):\n",
    "        neuron_layer = np.array([])\n",
    "        for x in range(output_shape):\n",
    "            neuron_layer = np.append(neuron_layer,Perceptron(n_of_weights=input_shape, step=activation_func, activation=activation_func))\n",
    "        self.neurons = neuron_layer\n",
    "        \n",
    "    def get_neuron(self, n):\n",
    "        return self.neurons[n]\n",
    "    \n",
    "    def get_neurons(self):\n",
    "        return self.neurons\n",
    "    \n",
    "    def set_neurons(self, adj_neurons):\n",
    "        self.neurons = adj_neurons\n",
    "    \n",
    "    def forward_pass(self, X):\n",
    "        output = np.array([])\n",
    "        for neuron in self.neurons:\n",
    "            output = np.append(output,neuron.step_pass(X))\n",
    "        return output\n",
    "    \n",
    "    def relu(self, input):\n",
    "        if input>0:\n",
    "            return input\n",
    "        else:\n",
    "            return 0\n",
    "        \n",
    "    def drelu(self, input):\n",
    "        if input>0:\n",
    "            return 1\n",
    "        else:\n",
    "            return 0\n",
    "\n",
    "    def sigmoid(self, input):\n",
    "        return 1/(1+np.e**(-input))\n",
    "\n",
    "    def dsigmoid(self, input):\n",
    "        return self.sigmoid(input)*(1-self.sigmoid(input))\n",
    "    \n",
    "    def dactivation(self, neuron, input):\n",
    "        activation = neuron.get_activation()\n",
    "        if activation=='sigmoid':\n",
    "            return dsigmoid(neuron.raw_pass(input))\n",
    "        elif activation=='relu':\n",
    "            return drelu(neuron.raw_pass(input))\n",
    "        else:\n",
    "            return neuron.raw_pass(input)\n",
    "    \n",
    "    def fit(self, X, y, learning_rate):\n",
    "        weight_change = [[w] for w in self.get_neurons()[0].get_weights()]\n",
    "        print(weight_change)\n",
    "        error = [0]\n",
    "        neurons = self.get_neurons()\n",
    "        for k in range(len(X)):\n",
    "            for n in neurons:\n",
    "                weights = n.get_weights()[:-1]\n",
    "                adj_weights = [weights[x]-(learning_rate*(self.forward_pass(X[k])-y[k])*X[k][x])[0] for x in range(len(weights))]\n",
    "                adj_weights.append(n.get_weights()[-1:][0]-(learning_rate*(self.forward_pass(X[k])-y[k]))[0])\n",
    "                n.change_weights(adj_weights)\n",
    "                for x in range(len(adj_weights)):\n",
    "                    weight_change[x].append(adj_weights[x])\n",
    "            error.append(y[k]-n.step_pass(X[k]))\n",
    "            self.set_neurons(neurons)\n",
    "        return weight_change, error\n",
    "    \n",
    "    \n",
    "## testing\n",
    "\n",
    "start = time.time()\n",
    "\n",
    "layer = Output_Layer(2, 1)\n",
    "\n",
    "a = np.random.uniform(-100,100)\n",
    "b = np.random.uniform(-100,100)\n",
    "c = np.random.uniform(-100,100)\n",
    "\n",
    "X = np.array([np.random.uniform(-10,10,2) for x in range(1000)])\n",
    "y = [a*x[0]+b*x[1]+c for x in X]\n",
    "\n",
    "change, err = layer.fit(X,y, learning_rate=0.005)\n",
    "\n",
    "print(layer.get_neurons()[0].get_weights())\n",
    "\n",
    "end = time.time()\n",
    "print(end-start)\n",
    "\n",
    "plt.plot(change[0],label='0')\n",
    "plt.axhline(y=a, color='blue')\n",
    "plt.plot(change[1],label='1')\n",
    "plt.axhline(y=b, color='orange')\n",
    "plt.plot(change[2],label='2')\n",
    "plt.axhline(y=c, color='green')\n",
    "plt.legend()"
   ]
  }
 ],
 "metadata": {
  "kernelspec": {
   "display_name": "env",
   "language": "python",
   "name": "python3"
  },
  "language_info": {
   "codemirror_mode": {
    "name": "ipython",
    "version": 3
   },
   "file_extension": ".py",
   "mimetype": "text/x-python",
   "name": "python",
   "nbconvert_exporter": "python",
   "pygments_lexer": "ipython3",
   "version": "3.11.4"
  }
 },
 "nbformat": 4,
 "nbformat_minor": 2
}
